{
  "nbformat": 4,
  "nbformat_minor": 0,
  "metadata": {
    "colab": {
      "provenance": [],
      "authorship_tag": "ABX9TyOcG8qdO9k7tc4Y4kmuwqPv",
      "include_colab_link": true
    },
    "kernelspec": {
      "name": "python3",
      "display_name": "Python 3"
    },
    "language_info": {
      "name": "python"
    }
  },
  "cells": [
    {
      "cell_type": "markdown",
      "metadata": {
        "id": "view-in-github",
        "colab_type": "text"
      },
      "source": [
        "<a href=\"https://colab.research.google.com/github/aiEverything/aiEverythingYoutube/blob/main/introductionToAi.ipynb\" target=\"_parent\"><img src=\"https://colab.research.google.com/assets/colab-badge.svg\" alt=\"Open In Colab\"/></a>"
      ]
    },
    {
      "cell_type": "markdown",
      "source": [
        "**what is ai** ?\n",
        "\n",
        "***aritficial intelligence ***:\n",
        "\n",
        "\n",
        "if you give a task and method to an identity , than intelligence means that it can be solved by that identity .A collection of recursive programs is known as ai if  they are able to solve a given problem.\n",
        "\n",
        "\n",
        "**how many types of ai** ?\n",
        "\n",
        "\n",
        "so far we have seven types of ai depending upon\n",
        "\n",
        "  1: logical ai       :      boolean algebra based recursion\n",
        "\n",
        "  2: propostional logic ai    :   propostional algebra based recusion\n",
        "\n",
        "  3: probabilistic ai    :  probability based recursion\n",
        "\n",
        "  4: optimization ai   :    optimization fxn based recursion\n",
        "\n",
        "5: self learning ai     :     input-output pair based recursion\n",
        "\n",
        "6:neural network ai    :    input-output based recursion for complex tasks\n",
        "\n",
        "7:transformer ai llms (nlp)"
      ],
      "metadata": {
        "id": "7uq0J10mEZ_P"
      }
    },
    {
      "cell_type": "code",
      "execution_count": null,
      "metadata": {
        "id": "PRMIYM55EToR"
      },
      "outputs": [],
      "source": []
    }
  ]
}